{
 "cells": [
  {
   "cell_type": "markdown",
   "id": "52efabdf",
   "metadata": {
    "id": "52efabdf"
   },
   "source": [
    "problem:\n",
    "\n",
    "A large MNC have 9 broad verticals across the organisation. One of the problem is identifying the right people for promotion (only for manager position and below) and prepare them in time.\n",
    "\n",
    "The final promotions are only announced after the evaluation and this leads to delay in transition to new roles. Hence, company needs help in identifying the eligible candidates at a particular checkpoint so that they can expedite the entire promotion cycle.\n",
    "\n",
    "Multiple attributes have been provided around Employee's  past and current performance along with demographics."
   ]
  },
  {
   "cell_type": "markdown",
   "id": "c6a2afa8",
   "metadata": {
    "id": "c6a2afa8"
   },
   "source": [
    "Features:\n",
    "\n",
    "*employee_id: Unique ID for employee\n",
    "*department: Department of employee\n",
    "*region: Region of employment (unordered)\n",
    "*education: Education Level\n",
    "*gender: Gender of Employee\n",
    "*recruitment_channel: Channel of recruitment for employee\n",
    "*no_ of_ trainings: no of other trainings completed in previous year on soft skills, technical skills etc.\n",
    "*age: Age of Employee\n",
    "*previous_ year_ rating: Employee Rating for the previous year\n",
    "*length_ of_ service: Length of service in years\n",
    "*awards_ won?: if awards won during previous year then 1 else 0\n",
    "*avg_ training_ score: Average score in current training evaluations\n",
    "*is_promoted: (Target) Recommended for promotion"
   ]
  },
  {
   "cell_type": "markdown",
   "id": "4f03d1ef",
   "metadata": {
    "id": "4f03d1ef"
   },
   "source": []
  },
  {
   "cell_type": "markdown",
   "id": "a343a007",
   "metadata": {
    "id": "a343a007"
   },
   "source": [
    " importing nesessary libraries"
   ]
  },
  {
   "cell_type": "code",
   "execution_count": null,
   "id": "100d2819",
   "metadata": {
    "id": "100d2819"
   },
   "outputs": [],
   "source": [
    "import pandas as pd\n",
    "import numpy as np\n",
    "import matplotlib.pyplot as plt\n",
    "import seaborn as sns"
   ]
  },
  {
   "cell_type": "code",
   "execution_count": null,
   "id": "dcdba6f0",
   "metadata": {
    "id": "dcdba6f0"
   },
   "outputs": [],
   "source": [
    "df=pd.read_csv('train.csv')"
   ]
  },
  {
   "cell_type": "code",
   "execution_count": null,
   "id": "7d3e69c6",
   "metadata": {
    "id": "7d3e69c6"
   },
   "outputs": [],
   "source": [
    "test=pd.read_csv('test.csv')"
   ]
  },
  {
   "cell_type": "code",
   "execution_count": null,
   "id": "e4243d29",
   "metadata": {
    "colab": {
     "base_uri": "https://localhost:8080/",
     "height": 423
    },
    "id": "e4243d29",
    "outputId": "f41a6d54-4eb6-41da-a103-1827063916ad",
    "scrolled": true
   },
   "outputs": [],
   "source": [
    "df"
   ]
  },
  {
   "cell_type": "code",
   "execution_count": null,
   "id": "a196e3c1",
   "metadata": {
    "colab": {
     "base_uri": "https://localhost:8080/"
    },
    "id": "a196e3c1",
    "outputId": "d81d6048-e192-4436-c4c3-cdd3227f19d1"
   },
   "outputs": [],
   "source": [
    "df.select_dtypes(include= 'O').columns"
   ]
  },
  {
   "cell_type": "code",
   "execution_count": null,
   "id": "f58865c8",
   "metadata": {
    "colab": {
     "base_uri": "https://localhost:8080/",
     "height": 423
    },
    "id": "f58865c8",
    "outputId": "af576fe4-23ca-4bba-d92e-bede41230130"
   },
   "outputs": [],
   "source": [
    "test"
   ]
  },
  {
   "cell_type": "code",
   "execution_count": null,
   "id": "938e660b",
   "metadata": {
    "colab": {
     "base_uri": "https://localhost:8080/"
    },
    "id": "938e660b",
    "outputId": "e4aff9b9-343f-4431-aa8a-58458987f037"
   },
   "outputs": [],
   "source": [
    "df.shape"
   ]
  },
  {
   "cell_type": "code",
   "execution_count": null,
   "id": "eee1b239",
   "metadata": {
    "colab": {
     "base_uri": "https://localhost:8080/"
    },
    "id": "eee1b239",
    "outputId": "a1597e99-7297-4f1b-dd0a-f6a91f8c956d"
   },
   "outputs": [],
   "source": [
    "df.info()"
   ]
  },
  {
   "cell_type": "code",
   "execution_count": null,
   "id": "70568a36",
   "metadata": {
    "colab": {
     "base_uri": "https://localhost:8080/"
    },
    "id": "70568a36",
    "outputId": "b5411dc5-ed05-49e5-d068-220567178b63",
    "scrolled": true
   },
   "outputs": [],
   "source": [
    "df.isnull().sum()"
   ]
  },
  {
   "cell_type": "code",
   "execution_count": null,
   "id": "578aafa2",
   "metadata": {
    "id": "578aafa2"
   },
   "outputs": [],
   "source": [
    "department=df.groupby('department')"
   ]
  },
  {
   "cell_type": "code",
   "execution_count": null,
   "id": "86ed0086",
   "metadata": {
    "id": "86ed0086"
   },
   "outputs": [],
   "source": [
    "HR=department.get_group('HR')"
   ]
  },
  {
   "cell_type": "code",
   "execution_count": null,
   "id": "d3b52ba5",
   "metadata": {
    "colab": {
     "base_uri": "https://localhost:8080/"
    },
    "id": "d3b52ba5",
    "outputId": "4e43ebff-cde6-4664-bc12-bf5217bed3e9"
   },
   "outputs": [],
   "source": [
    "HR['is_promoted'].value_counts()"
   ]
  },
  {
   "cell_type": "code",
   "execution_count": null,
   "id": "77dd7bd4",
   "metadata": {
    "colab": {
     "base_uri": "https://localhost:8080/"
    },
    "id": "77dd7bd4",
    "outputId": "7bb4b516-3650-4516-877a-a5a0931fb9ba",
    "scrolled": true
   },
   "outputs": [],
   "source": [
    "df['department'].unique()"
   ]
  },
  {
   "cell_type": "code",
   "execution_count": null,
   "id": "45772637",
   "metadata": {
    "colab": {
     "base_uri": "https://localhost:8080/"
    },
    "id": "45772637",
    "outputId": "6f0cf00c-4be9-4c59-ae95-d2d5eb0e3832"
   },
   "outputs": [],
   "source": [
    "df.columns"
   ]
  },
  {
   "cell_type": "code",
   "execution_count": null,
   "id": "c0881db5",
   "metadata": {
    "id": "c0881db5",
    "scrolled": false
   },
   "outputs": [],
   "source": [
    "#def value_counts :\n",
    "    #for i in df['department'].unique()\n",
    "    #department.get_group('i')\n",
    "    #i['is_promoted'].value_counts()\n",
    "    "
   ]
  },
  {
   "cell_type": "code",
   "execution_count": null,
   "id": "dd68212c",
   "metadata": {
    "id": "dd68212c"
   },
   "outputs": [],
   "source": [
    "def value_counts(df):\n",
    "    import pandas as pd\n",
    "    \n",
    "    # Loop over unique values in the 'department' column\n",
    "    for i in df['department'].unique():\n",
    "        \n",
    "        # Get a groupby object for the current department\n",
    "        department = df.groupby('department')\n",
    "        group = department.get_group(i)\n",
    "        \n",
    "        # Print the value counts for the 'is_promoted' column\n",
    "        print(f\"Department: {i}\")\n",
    "        print(group['is_promoted'].value_counts())\n"
   ]
  },
  {
   "cell_type": "code",
   "execution_count": null,
   "id": "7485098b",
   "metadata": {
    "colab": {
     "base_uri": "https://localhost:8080/"
    },
    "id": "7485098b",
    "outputId": "14786463-d16d-4238-8871-dc96ae149a8d"
   },
   "outputs": [],
   "source": [
    "df.groupby('department')['age'].min()"
   ]
  },
  {
   "cell_type": "code",
   "execution_count": null,
   "id": "a81cea4b",
   "metadata": {
    "colab": {
     "base_uri": "https://localhost:8080/"
    },
    "id": "a81cea4b",
    "outputId": "aab9f8d7-2e0a-402a-895a-13d95aa73c4c"
   },
   "outputs": [],
   "source": [
    "df.groupby('department')['age'].max()"
   ]
  },
  {
   "cell_type": "code",
   "execution_count": null,
   "id": "4ac8742e",
   "metadata": {
    "id": "4ac8742e"
   },
   "outputs": [],
   "source": [
    "def value_counts(df, column_name):\n",
    "    # Loop over each unique department in the \"department\" column\n",
    "    for department_name in df['department'].unique():\n",
    "        # Get the DataFrame for this department using get_group()\n",
    "        department_df = df.groupby('department').get_group(department_name)\n",
    "        \n",
    "        # Count the occurrences of each unique value in the specified column for this department\n",
    "        value_counts = department_df[column_name].value_counts()\n",
    "        \n",
    "        # Print the value counts for this department\n",
    "        print(f\"{department_name}:\")\n",
    "        print(value_counts)\n",
    "        print()\n"
   ]
  },
  {
   "cell_type": "code",
   "execution_count": null,
   "id": "c6723830",
   "metadata": {
    "id": "c6723830"
   },
   "outputs": [],
   "source": [
    "def value_counts(df):\n",
    "    import pandas as pd\n",
    "    \n",
    "    # Loop over unique values in the 'department' column\n",
    "    for i in df['department'].unique():\n",
    "        \n",
    "        # Get a groupby object for the current department\n",
    "        department = df.groupby('department')\n",
    "        group = department.get_group(i)\n",
    "        \n",
    "        # Print the value counts for the 'is_promoted' column\n",
    "        print(f\"Department: {i}\")\n",
    "        print(group['is_promoted'].value_counts())\n"
   ]
  },
  {
   "cell_type": "code",
   "execution_count": null,
   "id": "523e9853",
   "metadata": {
    "colab": {
     "base_uri": "https://localhost:8080/"
    },
    "id": "523e9853",
    "outputId": "44f6b080-cffd-420a-d342-5ffa4c6b0f94"
   },
   "outputs": [],
   "source": [
    "value_counts(df)"
   ]
  },
  {
   "cell_type": "code",
   "execution_count": null,
   "id": "a2c5ebbf",
   "metadata": {
    "colab": {
     "base_uri": "https://localhost:8080/"
    },
    "id": "a2c5ebbf",
    "outputId": "28a4cf08-3be5-4793-d72a-9184057d22ff"
   },
   "outputs": [],
   "source": [
    "df['department'].value_counts()"
   ]
  },
  {
   "cell_type": "code",
   "execution_count": null,
   "id": "dfc4a8aa",
   "metadata": {
    "colab": {
     "base_uri": "https://localhost:8080/",
     "height": 207
    },
    "id": "dfc4a8aa",
    "outputId": "a1f7646d-979f-4b24-80c2-e4a5bc3ea194"
   },
   "outputs": [],
   "source": [
    "sns.countplot(df['department'],hue='is_promoted',data=df)\n",
    "plt.xticks(rotation=90)\n",
    "plt.show()"
   ]
  },
  {
   "cell_type": "code",
   "execution_count": null,
   "id": "52fe15f0",
   "metadata": {
    "id": "52fe15f0"
   },
   "outputs": [],
   "source": [
    "department_names=df['department'].value_counts().index"
   ]
  },
  {
   "cell_type": "code",
   "execution_count": null,
   "id": "81e6f4ea",
   "metadata": {
    "id": "81e6f4ea"
   },
   "outputs": [],
   "source": [
    "department_count=df['department'].value_counts().values"
   ]
  },
  {
   "cell_type": "code",
   "execution_count": null,
   "id": "05dc674b",
   "metadata": {
    "id": "05dc674b",
    "scrolled": false
   },
   "outputs": [],
   "source": [
    "plt.pie(department_count,labels=department_names,autopct='%1.2f%%')\n",
    "plt.show()"
   ]
  },
  {
   "cell_type": "code",
   "execution_count": null,
   "id": "31d17483",
   "metadata": {
    "id": "31d17483"
   },
   "outputs": [],
   "source": [
    "sns.relplot(y='department',x='is_promoted',data=df)"
   ]
  },
  {
   "cell_type": "code",
   "execution_count": null,
   "id": "2670f38d",
   "metadata": {
    "id": "2670f38d",
    "scrolled": true
   },
   "outputs": [],
   "source": [
    "sns.catplot(\n",
    "    data=df, y=\"department\", hue=\"education\", kind=\"count\",\n",
    "    palette=\"pastel\", edgecolor=\".6\",\n",
    ")"
   ]
  },
  {
   "cell_type": "code",
   "execution_count": null,
   "id": "a3292feb",
   "metadata": {
    "id": "a3292feb",
    "scrolled": false
   },
   "outputs": [],
   "source": [
    "sns.catplot(\n",
    "    data=df, y=\"department\", hue=\"recruitment_channel\", kind=\"count\",\n",
    "    palette=\"pastel\", edgecolor=\".6\",\n",
    ")"
   ]
  },
  {
   "cell_type": "code",
   "execution_count": null,
   "id": "12bc4367",
   "metadata": {
    "id": "12bc4367",
    "scrolled": true
   },
   "outputs": [],
   "source": [
    "sns.scatterplot(df['department'],df['no_of_trainings'])\n",
    "plt.xticks(rotation=90)\n",
    "plt.show()"
   ]
  },
  {
   "cell_type": "code",
   "execution_count": null,
   "id": "514e3fa5",
   "metadata": {
    "id": "514e3fa5"
   },
   "outputs": [],
   "source": [
    "df['region'].value_counts()"
   ]
  },
  {
   "cell_type": "code",
   "execution_count": null,
   "id": "0b6b1fe5",
   "metadata": {
    "id": "0b6b1fe5",
    "scrolled": false
   },
   "outputs": [],
   "source": [
    "plt.figure(figsize=(10,15))\n",
    "sns.countplot(y=df['region'],hue='department',data=df)"
   ]
  },
  {
   "cell_type": "code",
   "execution_count": null,
   "id": "6eb1e9bf",
   "metadata": {
    "id": "6eb1e9bf"
   },
   "outputs": [],
   "source": [
    "plt.figure(figsize=(10,15))\n",
    "sns.countplot(y=df['region'],hue='is_promoted',data=df)"
   ]
  },
  {
   "cell_type": "code",
   "execution_count": null,
   "id": "e36a9da3",
   "metadata": {
    "id": "e36a9da3"
   },
   "outputs": [],
   "source": [
    "df['education'].value_counts()"
   ]
  },
  {
   "cell_type": "code",
   "execution_count": null,
   "id": "70948161",
   "metadata": {
    "id": "70948161",
    "scrolled": true
   },
   "outputs": [],
   "source": [
    "sns.countplot(df['education'],hue='is_promoted',data=df)"
   ]
  },
  {
   "cell_type": "code",
   "execution_count": null,
   "id": "d532dee0",
   "metadata": {
    "id": "d532dee0",
    "scrolled": true
   },
   "outputs": [],
   "source": [
    "sns.catplot('education','gender',palette='Blues_d',data=df)"
   ]
  },
  {
   "cell_type": "code",
   "execution_count": null,
   "id": "7dcbe36c",
   "metadata": {
    "id": "7dcbe36c"
   },
   "outputs": [],
   "source": [
    "sns.catplot(x='gender', y='is_promoted', hue='gender', kind='bar', estimator=lambda x: len(x) / len(df) * 100, data=df)\n",
    "\n"
   ]
  },
  {
   "cell_type": "code",
   "execution_count": null,
   "id": "a00f054c",
   "metadata": {
    "id": "a00f054c"
   },
   "outputs": [],
   "source": [
    "df['recruitment_channel'].value_counts()"
   ]
  },
  {
   "cell_type": "code",
   "execution_count": null,
   "id": "f9f03e9f",
   "metadata": {
    "id": "f9f03e9f"
   },
   "outputs": [],
   "source": [
    "sns.relplot(x='recruitment_channel',y='is_promoted',data=df)"
   ]
  },
  {
   "cell_type": "code",
   "execution_count": null,
   "id": "359f64a1",
   "metadata": {
    "id": "359f64a1"
   },
   "outputs": [],
   "source": [
    "sns.catplot(y='recruitment_channel',x='awards_won?',data=df)"
   ]
  },
  {
   "cell_type": "code",
   "execution_count": null,
   "id": "202afc44",
   "metadata": {
    "id": "202afc44",
    "scrolled": true
   },
   "outputs": [],
   "source": [
    "for col in df.columns:\n",
    "    table = pd.crosstab(df[col], columns='count')\n",
    "    print(f\"Contingency table for column '{col}':\\n{table}\\n\")"
   ]
  },
  {
   "cell_type": "code",
   "execution_count": null,
   "id": "dea2334a",
   "metadata": {
    "id": "dea2334a",
    "scrolled": true
   },
   "outputs": [],
   "source": [
    "df.columns"
   ]
  },
  {
   "cell_type": "code",
   "execution_count": null,
   "id": "e2f0c06b",
   "metadata": {
    "id": "e2f0c06b"
   },
   "outputs": [],
   "source": [
    "sns.scatterplot('no_of_trainings','is_promoted',data=df)"
   ]
  },
  {
   "cell_type": "code",
   "execution_count": null,
   "id": "645ab2ce",
   "metadata": {
    "id": "645ab2ce"
   },
   "outputs": [],
   "source": [
    "sns.scatterplot('previous_year_rating','is_promoted',hue='department',data=df)"
   ]
  },
  {
   "cell_type": "code",
   "execution_count": null,
   "id": "f66cf569",
   "metadata": {
    "id": "f66cf569"
   },
   "outputs": [],
   "source": [
    "sns.scatterplot('length_of_service','is_promoted',data=df)"
   ]
  },
  {
   "cell_type": "code",
   "execution_count": null,
   "id": "07bedffc",
   "metadata": {
    "id": "07bedffc"
   },
   "outputs": [],
   "source": [
    "sns.scatterplot('is_promoted','age',data=df)"
   ]
  },
  {
   "cell_type": "code",
   "execution_count": null,
   "id": "315d901b",
   "metadata": {
    "id": "315d901b",
    "scrolled": false
   },
   "outputs": [],
   "source": [
    "df.describe()"
   ]
  },
  {
   "cell_type": "code",
   "execution_count": null,
   "id": "128bd61a",
   "metadata": {
    "id": "128bd61a",
    "scrolled": true
   },
   "outputs": [],
   "source": [
    "\n",
    "df.hist(figsize =(10,10), bins =10)\n",
    "plt.show()"
   ]
  },
  {
   "cell_type": "code",
   "execution_count": null,
   "id": "2b559dc2",
   "metadata": {
    "id": "2b559dc2",
    "scrolled": false
   },
   "outputs": [],
   "source": [
    "sns.distplot(df['age'])"
   ]
  },
  {
   "cell_type": "code",
   "execution_count": null,
   "id": "23de71df",
   "metadata": {
    "id": "23de71df",
    "scrolled": true
   },
   "outputs": [],
   "source": [
    "sns.boxplot(df['age'])"
   ]
  },
  {
   "cell_type": "code",
   "execution_count": null,
   "id": "0b2b706f",
   "metadata": {
    "id": "0b2b706f",
    "scrolled": true
   },
   "outputs": [],
   "source": [
    "df.corr()"
   ]
  },
  {
   "cell_type": "code",
   "execution_count": null,
   "id": "ac283fba",
   "metadata": {
    "id": "ac283fba"
   },
   "outputs": [],
   "source": [
    "sns.heatmap(df.corr(), cmap='coolwarm', annot=True)"
   ]
  },
  {
   "cell_type": "code",
   "execution_count": null,
   "id": "37e218a6",
   "metadata": {
    "id": "37e218a6",
    "scrolled": true
   },
   "outputs": [],
   "source": [
    "df.isnull().sum()"
   ]
  },
  {
   "cell_type": "code",
   "execution_count": null,
   "id": "12c1f31e",
   "metadata": {
    "colab": {
     "base_uri": "https://localhost:8080/"
    },
    "id": "12c1f31e",
    "outputId": "23a49213-0371-49e1-fd1b-5fa96892a230"
   },
   "outputs": [],
   "source": [
    "df['previous_year_rating'].mean()"
   ]
  },
  {
   "cell_type": "code",
   "execution_count": null,
   "id": "593dc0f1",
   "metadata": {
    "id": "593dc0f1"
   },
   "outputs": [],
   "source": [
    "df['education']=df['education'].fillna(df['education'].mode()[0])"
   ]
  },
  {
   "cell_type": "code",
   "execution_count": null,
   "id": "4dc9cdbc",
   "metadata": {
    "id": "4dc9cdbc"
   },
   "outputs": [],
   "source": [
    "df['previous_year_rating']=df['previous_year_rating'].fillna(df['previous_year_rating'].mean())"
   ]
  },
  {
   "cell_type": "code",
   "execution_count": null,
   "id": "f91265fa",
   "metadata": {
    "id": "f91265fa"
   },
   "outputs": [],
   "source": [
    "df_2=df.drop('employee_id',axis=1)"
   ]
  },
  {
   "cell_type": "code",
   "execution_count": null,
   "id": "348ddb15",
   "metadata": {
    "id": "348ddb15"
   },
   "outputs": [],
   "source": [
    "df_2=pd.get_dummies(df_2)"
   ]
  },
  {
   "cell_type": "code",
   "execution_count": null,
   "id": "6ee314db",
   "metadata": {
    "id": "6ee314db"
   },
   "outputs": [],
   "source": [
    "x=df_2.drop('is_promoted',axis=1).astype('int64')"
   ]
  },
  {
   "cell_type": "code",
   "execution_count": null,
   "id": "fe326e54",
   "metadata": {},
   "outputs": [],
   "source": [
    "type(x)"
   ]
  },
  {
   "cell_type": "code",
   "execution_count": null,
   "id": "a664a36a",
   "metadata": {
    "colab": {
     "base_uri": "https://localhost:8080/"
    },
    "id": "a664a36a",
    "outputId": "930051d6-085c-4559-9026-8ff0c7c3c711"
   },
   "outputs": [],
   "source": [
    "x.isnull().sum()"
   ]
  },
  {
   "cell_type": "code",
   "execution_count": null,
   "id": "ccd0bd0d",
   "metadata": {
    "id": "ccd0bd0d"
   },
   "outputs": [],
   "source": [
    "y=df_2['is_promoted']"
   ]
  },
  {
   "cell_type": "code",
   "execution_count": null,
   "id": "c5f42a00",
   "metadata": {},
   "outputs": [],
   "source": [
    "y.shape"
   ]
  },
  {
   "cell_type": "code",
   "execution_count": null,
   "id": "22143f4c",
   "metadata": {
    "id": "22143f4c"
   },
   "outputs": [],
   "source": [
    "from sklearn.model_selection import train_test_split"
   ]
  },
  {
   "cell_type": "code",
   "execution_count": null,
   "id": "0c7998bb",
   "metadata": {
    "id": "0c7998bb"
   },
   "outputs": [],
   "source": [
    "\n",
    "train_x,test_x,train_y,test_y=train_test_split(x,y,test_size=0.30,random_state=0)"
   ]
  },
  {
   "cell_type": "code",
   "execution_count": null,
   "id": "0e738912",
   "metadata": {
    "colab": {
     "base_uri": "https://localhost:8080/",
     "height": 220
    },
    "id": "0e738912",
    "outputId": "e196f4af-66a4-41ce-fc91-2d87ab8f89df",
    "scrolled": true
   },
   "outputs": [],
   "source": [
    "from sklearn.linear_model import LogisticRegression\n",
    "\n",
    "lg = LogisticRegression()\n",
    "lg.fit(train_x, train_y)"
   ]
  },
  {
   "cell_type": "code",
   "execution_count": null,
   "id": "cf70f512",
   "metadata": {
    "id": "cf70f512"
   },
   "outputs": [],
   "source": [
    "y_pred=lg.predict(test_x)"
   ]
  },
  {
   "cell_type": "code",
   "execution_count": null,
   "id": "6964b349",
   "metadata": {
    "id": "6964b349"
   },
   "outputs": [],
   "source": [
    "from sklearn.metrics import accuracy_score,confusion_matrix,classification_report"
   ]
  },
  {
   "cell_type": "code",
   "execution_count": null,
   "id": "04c63017",
   "metadata": {
    "colab": {
     "base_uri": "https://localhost:8080/"
    },
    "id": "04c63017",
    "outputId": "71160f6e-17e9-4fe8-c6c7-e230efec9e73"
   },
   "outputs": [],
   "source": [
    "accuracy_score(y_pred,test_y)"
   ]
  },
  {
   "cell_type": "code",
   "execution_count": null,
   "id": "7e771eae",
   "metadata": {
    "colab": {
     "base_uri": "https://localhost:8080/"
    },
    "id": "7e771eae",
    "outputId": "a5b7cf15-3830-4021-a849-f3632067a1a1"
   },
   "outputs": [],
   "source": [
    "confusion_matrix(y_pred,test_y)"
   ]
  },
  {
   "cell_type": "code",
   "execution_count": null,
   "id": "7103429d",
   "metadata": {
    "colab": {
     "base_uri": "https://localhost:8080/",
     "height": 54
    },
    "id": "7103429d",
    "outputId": "916624ea-f87b-48e4-af72-1be9fdc5f37c",
    "scrolled": true
   },
   "outputs": [],
   "source": [
    "classification_report(y_pred,test_y)"
   ]
  },
  {
   "cell_type": "code",
   "execution_count": null,
   "id": "3148dbfa",
   "metadata": {
    "id": "3148dbfa"
   },
   "outputs": [],
   "source": [
    "from imblearn.combine import SMOTETomek\n"
   ]
  },
  {
   "cell_type": "code",
   "execution_count": null,
   "id": "9061973f",
   "metadata": {
    "colab": {
     "base_uri": "https://localhost:8080/"
    },
    "id": "9061973f",
    "outputId": "6822c526-24f5-438c-bf20-84e157361f80"
   },
   "outputs": [],
   "source": [
    "df_2['is_promoted'].value_counts()"
   ]
  },
  {
   "cell_type": "code",
   "execution_count": null,
   "id": "324dbb50",
   "metadata": {
    "id": "324dbb50"
   },
   "outputs": [],
   "source": [
    "smk=SMOTETomek(random_state=40)"
   ]
  },
  {
   "cell_type": "code",
   "execution_count": null,
   "id": "d2b46ed6",
   "metadata": {},
   "outputs": [],
   "source": [
    "x.info()"
   ]
  },
  {
   "cell_type": "code",
   "execution_count": null,
   "id": "a0439756",
   "metadata": {
    "id": "a0439756"
   },
   "outputs": [],
   "source": [
    "x_1,y_1=smk.fit_resample(x,y)"
   ]
  },
  {
   "cell_type": "code",
   "execution_count": null,
   "id": "8dc05064",
   "metadata": {
    "colab": {
     "base_uri": "https://localhost:8080/"
    },
    "id": "8dc05064",
    "outputId": "7b71ad37-454b-48fc-e47b-8f2cb8f228d4"
   },
   "outputs": [],
   "source": [
    "x_1.shape,y_1.shape"
   ]
  },
  {
   "cell_type": "code",
   "execution_count": null,
   "id": "e8e3ef79",
   "metadata": {
    "colab": {
     "base_uri": "https://localhost:8080/"
    },
    "id": "e8e3ef79",
    "outputId": "8fd2a542-22b9-4cfc-c370-b6566edafe0b"
   },
   "outputs": [],
   "source": [
    "x.shape,y.shape"
   ]
  },
  {
   "cell_type": "code",
   "execution_count": null,
   "id": "d4f68cff",
   "metadata": {
    "id": "d4f68cff"
   },
   "outputs": [],
   "source": [
    "train_x1,test_x1,train_y1,test_y1=train_test_split(x_1,y_1,test_size=0.30,random_state=0)"
   ]
  },
  {
   "cell_type": "code",
   "execution_count": null,
   "id": "5b729510",
   "metadata": {
    "colab": {
     "base_uri": "https://localhost:8080/",
     "height": 220
    },
    "id": "5b729510",
    "outputId": "44028e5e-6c6c-4fd7-dfbf-14c58486572a"
   },
   "outputs": [],
   "source": [
    "lg.fit(train_x1,train_y1)"
   ]
  },
  {
   "cell_type": "code",
   "execution_count": null,
   "id": "b0d65c1e",
   "metadata": {
    "id": "b0d65c1e"
   },
   "outputs": [],
   "source": [
    "pred1=lg.predict(test_x1)"
   ]
  },
  {
   "cell_type": "code",
   "execution_count": null,
   "id": "4631e1b6",
   "metadata": {
    "colab": {
     "base_uri": "https://localhost:8080/"
    },
    "id": "4631e1b6",
    "outputId": "32df9c86-216d-4070-d7c7-9e4145f55cdb"
   },
   "outputs": [],
   "source": [
    "accuracy_score(pred1,test_y1)"
   ]
  },
  {
   "cell_type": "code",
   "execution_count": null,
   "id": "61b2d399",
   "metadata": {
    "colab": {
     "base_uri": "https://localhost:8080/"
    },
    "id": "61b2d399",
    "outputId": "9660c3b9-24fc-476f-e107-3d895b2b162a"
   },
   "outputs": [],
   "source": [
    "confusion_matrix(pred1,test_y1)"
   ]
  },
  {
   "cell_type": "code",
   "execution_count": null,
   "id": "0ad97aeb",
   "metadata": {
    "colab": {
     "base_uri": "https://localhost:8080/",
     "height": 54
    },
    "id": "0ad97aeb",
    "outputId": "96a86e37-ce04-4719-f6a4-060b6f71540e"
   },
   "outputs": [],
   "source": [
    "classification_report(pred1,test_y1)"
   ]
  },
  {
   "cell_type": "code",
   "execution_count": null,
   "id": "25b439ce",
   "metadata": {
    "colab": {
     "base_uri": "https://localhost:8080/",
     "height": 206
    },
    "id": "25b439ce",
    "outputId": "bbf3b07d-d1c3-46a6-c9d8-e3b55f291fa3"
   },
   "outputs": [],
   "source": [
    "df.head()"
   ]
  },
  {
   "cell_type": "code",
   "execution_count": null,
   "id": "6b9e81e4",
   "metadata": {
    "id": "6b9e81e4"
   },
   "outputs": [],
   "source": [
    "X=df.drop(['employee_id', 'is_promoted'], axis=1)\n",
    "X.info()"
   ]
  },
  {
   "cell_type": "code",
   "execution_count": null,
   "id": "3d0b27e0",
   "metadata": {
    "id": "3d0b27e0"
   },
   "outputs": [],
   "source": [
    "Y=df['is_promoted']"
   ]
  },
  {
   "cell_type": "code",
   "execution_count": null,
   "id": "15f3da0b",
   "metadata": {
    "id": "15f3da0b"
   },
   "outputs": [],
   "source": [
    "from imblearn.over_sampling import SMOTENC\n",
    "from sklearn.compose import ColumnTransformer\n",
    "from sklearn.preprocessing import StandardScaler,OneHotEncoder\n",
    "from sklearn.pipeline import Pipeline\n",
    "from imblearn.pipeline import Pipeline as ImbPipeline\n"
   ]
  },
  {
   "cell_type": "code",
   "execution_count": null,
   "id": "unK_5TZ51W7i",
   "metadata": {
    "id": "unK_5TZ51W7i"
   },
   "outputs": [],
   "source": [
    "transformer= ColumnTransformer(\n",
    "    transformers=[\n",
    "        ('cat', OneHotEncoder(sparse=False), [0, 1, 2, 3, 4]) ,\n",
    "        ('scaling',StandardScaler(),[5,6,7,8,9,10])     \n",
    "    ],\n",
    "    remainder='passthrough'\n",
    ")\n"
   ]
  },
  {
   "cell_type": "code",
   "execution_count": null,
   "id": "c9CyVkqvrHbj",
   "metadata": {
    "id": "c9CyVkqvrHbj"
   },
   "outputs": [],
   "source": [
    "preprocessor = ImbPipeline([\n",
    "    (('cat', OneHotEncoder(sparse=False), [0, 1, 2, 3, 4])),\n",
    "    \n",
    "    ('smote', SMOTENC(categorical_features=[0, 1, 2, 3, 4], random_state=0))\n",
    "])\n",
    "\n",
    "pipeline = Pipeline([\n",
    "    ('preprocess', preprocessor),\n",
    "    # add more steps in the pipeline as needed\n",
    "])"
   ]
  },
  {
   "cell_type": "code",
   "execution_count": null,
   "id": "xHaPdPEqmXIn",
   "metadata": {
    "colab": {
     "base_uri": "https://localhost:8080/"
    },
    "id": "xHaPdPEqmXIn",
    "outputId": "b9b11fde-d4fd-4283-93be-dc394f00c4dc"
   },
   "outputs": [],
   "source": [
    "X_transformed = transformer.fit_transform(X)"
   ]
  },
  {
   "cell_type": "code",
   "execution_count": null,
   "id": "ZTK0VnIznRHB",
   "metadata": {
    "colab": {
     "base_uri": "https://localhost:8080/"
    },
    "id": "ZTK0VnIznRHB",
    "outputId": "8886aea8-f5e5-4fb7-c5ae-df7f8b4111a9"
   },
   "outputs": [],
   "source": [
    "X_transformed"
   ]
  },
  {
   "cell_type": "code",
   "execution_count": null,
   "id": "lI_tl5kXm3He",
   "metadata": {
    "id": "lI_tl5kXm3He",
    "scrolled": true
   },
   "outputs": [],
   "source": [
    "X_resampled, y_resampled = SMOTENC(categorical_features=[0, 1, 2, 3, 4], random_state=0).fit_resample(X_transformed, y)"
   ]
  },
  {
   "cell_type": "code",
   "execution_count": null,
   "id": "ibLJrq5HnCNb",
   "metadata": {
    "colab": {
     "base_uri": "https://localhost:8080/"
    },
    "id": "ibLJrq5HnCNb",
    "outputId": "56f69f14-4edd-4811-bc84-2da5594363d2"
   },
   "outputs": [],
   "source": [
    "X_resampled.shape"
   ]
  },
  {
   "cell_type": "code",
   "execution_count": null,
   "id": "3nF0Jtti14Za",
   "metadata": {
    "id": "3nF0Jtti14Za"
   },
   "outputs": [],
   "source": [
    "from sklearn.model_selection import train_test_split\n",
    "\n",
    "train_X, test_X, train_Y, test_Y = train_test_split(X_resampled,y_resampled, test_size=0.30, random_state=0)\n"
   ]
  },
  {
   "cell_type": "code",
   "execution_count": null,
   "id": "a73b903f",
   "metadata": {
    "colab": {
     "base_uri": "https://localhost:8080/"
    },
    "id": "a73b903f",
    "outputId": "059ca517-31e3-4ca0-987b-bcbe635ab566"
   },
   "outputs": [],
   "source": [
    "train_X.shape,test_X.shape"
   ]
  },
  {
   "cell_type": "code",
   "execution_count": null,
   "id": "480bbaee",
   "metadata": {
    "colab": {
     "base_uri": "https://localhost:8080/",
     "height": 220
    },
    "id": "480bbaee",
    "outputId": "92b34c1e-132f-436a-8288-e6a3542b56c6"
   },
   "outputs": [],
   "source": [
    "lg.fit(train_X,train_Y)"
   ]
  },
  {
   "cell_type": "code",
   "execution_count": null,
   "id": "94369e24",
   "metadata": {
    "id": "94369e24"
   },
   "outputs": [],
   "source": [
    "predict=lg.predict(test_X)"
   ]
  },
  {
   "cell_type": "code",
   "execution_count": null,
   "id": "1beda38e",
   "metadata": {
    "colab": {
     "base_uri": "https://localhost:8080/"
    },
    "id": "1beda38e",
    "outputId": "37462ddb-ce7a-45da-eb76-a51e8c09b1f4"
   },
   "outputs": [],
   "source": [
    "accuracy_score(predict,test_Y)"
   ]
  },
  {
   "cell_type": "code",
   "execution_count": null,
   "id": "6dcbca97",
   "metadata": {
    "colab": {
     "base_uri": "https://localhost:8080/",
     "height": 81
    },
    "id": "6dcbca97",
    "outputId": "bef56f4a-6531-459d-b863-09dad1d50c2a"
   },
   "outputs": [],
   "source": [
    "test.head(1)"
   ]
  },
  {
   "cell_type": "code",
   "execution_count": null,
   "id": "QEiAI5Ij6xcC",
   "metadata": {
    "id": "QEiAI5Ij6xcC"
   },
   "outputs": [],
   "source": [
    "from imblearn.pipeline import Pipeline\n",
    "from imblearn.over_sampling import SMOTENC\n",
    "from sklearn.compose import ColumnTransformer\n",
    "from sklearn.preprocessing import OneHotEncoder, StandardScaler\n",
    "\n",
    "preprocessor = ColumnTransformer(\n",
    "    transformers=[\n",
    "        ('cat', OneHotEncoder(sparse=False), [0, 1, 2, 3, 4]),\n",
    "        ('scaling', StandardScaler(), [5, 6, 7, 8, 9, 10])\n",
    "    ],\n",
    "    remainder='passthrough'\n",
    ")\n",
    "estimator=LogisticRegression()\n",
    "\n",
    "pipeline = Pipeline([\n",
    "    ('preprocessor', preprocessor),\n",
    "    ('oversampler', SMOTENC(categorical_features=[0, 1, 2, 3, 4], random_state=0)),\n",
    "    ('estimator', LogisticRegression())\n",
    "])\n",
    "\n",
    "# Fit and transform the pipeline on the input data X and target variable y\n",
    "X_resampled1, y_resampled1 = pipeline['oversampler'].fit_resample(X, y)\n"
   ]
  },
  {
   "cell_type": "code",
   "execution_count": null,
   "id": "CK7-DASMvL-D",
   "metadata": {
    "id": "CK7-DASMvL-D"
   },
   "outputs": [],
   "source": [
    "train_X, test_X, train_Y, test_Y = train_test_split(X_resampled1,y_resampled1, test_size=0.30, random_state=0)"
   ]
  },
  {
   "cell_type": "code",
   "execution_count": null,
   "id": "vVZ6a70bvVKk",
   "metadata": {
    "colab": {
     "base_uri": "https://localhost:8080/",
     "height": 428
    },
    "id": "vVZ6a70bvVKk",
    "outputId": "bd73d87f-7426-4b2d-a04c-a7b59884a58d"
   },
   "outputs": [],
   "source": [
    "pipeline.fit(train_X,train_Y)"
   ]
  },
  {
   "cell_type": "code",
   "execution_count": null,
   "id": "BaE3sdoXvrFx",
   "metadata": {
    "id": "BaE3sdoXvrFx"
   },
   "outputs": [],
   "source": [
    "predict=pipeline.predict(test_X)"
   ]
  },
  {
   "cell_type": "code",
   "execution_count": null,
   "id": "WqdxJmxjwyOT",
   "metadata": {
    "colab": {
     "base_uri": "https://localhost:8080/"
    },
    "id": "WqdxJmxjwyOT",
    "outputId": "b5447702-b848-473e-a988-c933a9c2b9e5"
   },
   "outputs": [],
   "source": [
    "accuracy_score(predict,test_Y)"
   ]
  },
  {
   "cell_type": "code",
   "execution_count": null,
   "id": "H8Xr1AT2yNDz",
   "metadata": {
    "colab": {
     "base_uri": "https://localhost:8080/",
     "height": 423
    },
    "id": "H8Xr1AT2yNDz",
    "outputId": "4400b2ee-4da6-4c2a-ac75-96ba342bf95c"
   },
   "outputs": [],
   "source": [
    "test"
   ]
  },
  {
   "cell_type": "code",
   "execution_count": null,
   "id": "2UJ1MWwRzaCA",
   "metadata": {
    "id": "2UJ1MWwRzaCA"
   },
   "outputs": [],
   "source": []
  },
  {
   "cell_type": "code",
   "execution_count": null,
   "id": "05a127a9",
   "metadata": {},
   "outputs": [],
   "source": []
  },
  {
   "cell_type": "code",
   "execution_count": null,
   "id": "02fb5892",
   "metadata": {},
   "outputs": [],
   "source": []
  },
  {
   "cell_type": "code",
   "execution_count": null,
   "id": "7b3d662b",
   "metadata": {},
   "outputs": [],
   "source": []
  }
 ],
 "metadata": {
  "colab": {
   "provenance": []
  },
  "kernelspec": {
   "display_name": "Python 3 (ipykernel)",
   "language": "python",
   "name": "python3"
  },
  "language_info": {
   "codemirror_mode": {
    "name": "ipython",
    "version": 3
   },
   "file_extension": ".py",
   "mimetype": "text/x-python",
   "name": "python",
   "nbconvert_exporter": "python",
   "pygments_lexer": "ipython3",
   "version": "3.9.16"
  }
 },
 "nbformat": 4,
 "nbformat_minor": 5
}
